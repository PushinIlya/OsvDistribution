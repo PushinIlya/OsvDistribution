{
 "cells": [
  {
   "cell_type": "markdown",
   "id": "2974f104",
   "metadata": {},
   "source": [
    "## Формирование csv-файлов по данным из 1С"
   ]
  },
  {
   "cell_type": "code",
   "execution_count": null,
   "id": "39a3d4e7",
   "metadata": {
    "scrolled": true
   },
   "outputs": [],
   "source": [
    "'''\n",
    "Скрипт для распределения выгруженных из 1С ОСВ по папкам в соответствии с периодом, по которому сформированы ОСВ\n",
    "'''\n",
    "# импортируем библиотеки\n",
    "from tqdm import tqdm\n",
    "import pandas as pd\n",
    "import os\n",
    "import re\n",
    "import shutil\n",
    "import numpy as np\n",
    "import sqlalchemy as db\n",
    "import psycopg2"
   ]
  },
  {
   "cell_type": "code",
   "execution_count": null,
   "id": "f5ab60bf",
   "metadata": {},
   "outputs": [],
   "source": [
    "# запишем путь к папке с исходными данными в переменную\n",
    "source = os.path.join('H:',\n",
    "                      'Исходные данные')\n",
    "# создадим список с названиями всех файлов в папке с исходными данными с расширением .xlsx\n",
    "raw_data_name_list = [raw_data for raw_data in os.listdir(source) if raw_data.startswith('текущий день_ОСВ') and\n",
    "                      raw_data.endswith('.xlsx') or raw_data.startswith('предыдущий месяц_ОСВ') and\n",
    "                      raw_data.endswith('.xlsx')]\n",
    "raw_data_name_list"
   ]
  },
  {
   "cell_type": "code",
   "execution_count": null,
   "id": "c39d238a",
   "metadata": {},
   "outputs": [],
   "source": [
    "print('Выполнение скрипта \"osv_distribution_by_folders\" (распределение ОСВ по папкам)')\n",
    "print(f'Чтение ОСВ из \"{source}\"')\n",
    "# создадим справочник из всех датафреймов в списке 'raw_data_name_list'\n",
    "all_raw_data = {raw_data:pd.read_excel(os.path.join(source, f'{raw_data}')) for raw_data in tqdm(raw_data_name_list)}"
   ]
  },
  {
   "cell_type": "code",
   "execution_count": null,
   "id": "bfeab2d4",
   "metadata": {
    "scrolled": true
   },
   "outputs": [],
   "source": [
    "# создадим список из номеров строк, в которых встречается слово 'Период' в excel файле\n",
    "period_location_row = [raw_data.apply(lambda row: row.astype(str)\n",
    "                                      .str.contains('Период').any(), axis=1)\n",
    "                               .loc[lambda x: x==True].index[0] for raw_data in all_raw_data.values()]"
   ]
  },
  {
   "cell_type": "code",
   "execution_count": null,
   "id": "267386df",
   "metadata": {},
   "outputs": [],
   "source": [
    "# создадим список из названий столбцов, в которых встречается слово 'Период' в excel файле\n",
    "period_location_column = [raw_data.apply(lambda row: row.astype(str)\n",
    "                                                        .str\n",
    "                                                        .contains('Период')\n",
    "                                                        .any(), axis=0)\n",
    "                                  .loc[lambda x: x==True].index[0] for raw_data in all_raw_data.values()]"
   ]
  },
  {
   "cell_type": "code",
   "execution_count": null,
   "id": "d29ed90b",
   "metadata": {},
   "outputs": [],
   "source": [
    "# объединим списки 'period_location_row' и 'period_location_column'\n",
    "# в список кортежей с номером строки и названием столбца\n",
    "period_location = list(zip(period_location_row, period_location_column))"
   ]
  },
  {
   "cell_type": "code",
   "execution_count": null,
   "id": "9aaaae0c",
   "metadata": {
    "scrolled": false
   },
   "outputs": [],
   "source": [
    "# создадим пустые списки\n",
    "period_list_start = []\n",
    "period_list_end = []\n",
    "\n",
    "# создадим счётчик\n",
    "x = 0\n",
    "# при помощи цикла заполним список 'period_list_start' значениями начала периода у каждого файла\n",
    "for raw_data in all_raw_data.values():\n",
    "    period_list_start.append(raw_data.loc[period_location[x][0], period_location[x][1]][8:18])\n",
    "    x += 1\n",
    "\n",
    "# создадим счётчик\n",
    "x = 0\n",
    "# при помощи цикла заполним список 'period_list_end' значениями конца периода у каждого файла\n",
    "for raw_data in all_raw_data.values():\n",
    "    period_list_end.append(raw_data.loc[period_location[x][0], period_location[x][1]][-10:])\n",
    "    x += 1\n",
    "    \n",
    "# поменяем местами год, месяц и день, и запишем в новую переменную 'period_list_end_reversed'\n",
    "period_list_end_reversed = [period[len(period) - 4:] + period[2:len(period) - 4] + period[:2] for period in period_list_end]"
   ]
  },
  {
   "cell_type": "code",
   "execution_count": null,
   "id": "5e02af0f",
   "metadata": {},
   "outputs": [],
   "source": [
    "# создадим список из номеров строк, в которых встречается слово 'Счет' в excel файле в столбце 'Unnamed: 0',\n",
    "# чтобы в дальнейшем оставить только строки, содержащие таблицу с данными\n",
    "rows_to_delete_index = []\n",
    "for raw_data in all_raw_data.values():\n",
    "    rows_to_delete_index.append(list(raw_data['Unnamed: 0']).index('Счет'))"
   ]
  },
  {
   "cell_type": "code",
   "execution_count": null,
   "id": "b71d7ff0",
   "metadata": {},
   "outputs": [],
   "source": [
    "# объединим списки 'raw_data_name_list' и 'rows_to_delete_index'\n",
    "# в список кортежей с названием файла и номером строки для удаления\n",
    "rows_to_delete = list(zip(raw_data_name_list, rows_to_delete_index))"
   ]
  },
  {
   "cell_type": "code",
   "execution_count": null,
   "id": "a2892d22",
   "metadata": {},
   "outputs": [],
   "source": [
    "# при помощи цикла обновим словарь 'all_raw_data', удалив лишние строки из каждого датафрейма\n",
    "for raw_data in all_raw_data.items():\n",
    "    for row in rows_to_delete:\n",
    "        if raw_data[0] == row[0]:\n",
    "            all_raw_data.update({raw_data[0]: raw_data[1][row[1]+1:]})"
   ]
  },
  {
   "cell_type": "code",
   "execution_count": null,
   "id": "e16b1081",
   "metadata": {},
   "outputs": [],
   "source": [
    "# при помощи цикла удалим пустые столбцы в каждом датафрейме из словаря 'all_raw_data'\n",
    "all_raw_data = {raw_data[0]: raw_data[1].dropna(how='all', axis=1) for raw_data in all_raw_data.items()}"
   ]
  },
  {
   "cell_type": "code",
   "execution_count": null,
   "id": "cca1cda0",
   "metadata": {},
   "outputs": [],
   "source": [
    "# при помощи цикла заменим текущие названия столбцов на значения из 1-ой строки\n",
    "# и удалим 2 лишние строки в каждом датафрейме из словаря 'all_raw_data'\n",
    "all_raw_data = {raw_data[0]: raw_data[1].rename(columns=raw_data[1].iloc[0])[2:]\n",
    "                                        .reset_index(drop=True) for raw_data in all_raw_data.items()}"
   ]
  },
  {
   "cell_type": "code",
   "execution_count": null,
   "id": "cadda192",
   "metadata": {},
   "outputs": [],
   "source": [
    "# удалим строку с итогами\n",
    "all_raw_data = {raw_data[0]: raw_data[1].iloc[:-1] for raw_data in all_raw_data.items()}"
   ]
  },
  {
   "cell_type": "code",
   "execution_count": null,
   "id": "cbfffb5d",
   "metadata": {},
   "outputs": [],
   "source": [
    "# переименуем столбцы\n",
    "for row_key, row_value in all_raw_data.items():\n",
    "    row_value.columns = ['Субконто 1',\n",
    "                         'Счёт',\n",
    "                         'Субконто 2',\n",
    "                         'Сумма нач. ост. Дт',\n",
    "                         'Сумма нач. ост. Кт',\n",
    "                         'Сумма оборотов Дт',\n",
    "                         'Сумма оборотов Кт',\n",
    "                         'Сумма кон. ост. Дт',\n",
    "                         'Сумма кон. ост. Кт']"
   ]
  },
  {
   "cell_type": "code",
   "execution_count": null,
   "id": "3eb8933b",
   "metadata": {},
   "outputs": [],
   "source": [
    "# при помощи цикла поменяем местами столбцы\n",
    "all_raw_data = {raw_data[0]: raw_data[1].iloc[:, [0, 2, 1, 3, 4, 5, 6, 7, 8]] for raw_data in all_raw_data.items()}"
   ]
  },
  {
   "cell_type": "code",
   "execution_count": null,
   "id": "21325a5a",
   "metadata": {},
   "outputs": [],
   "source": [
    "for row_key, row_value in all_raw_data.items():\n",
    "    if not row_value.empty:\n",
    "        # найдём первое вхождение уникального значения в столбце 'Счёт'\n",
    "        # и создадим словарь со значением по столбцу 'Счёт' и индексу этого значения\n",
    "        unique_vals = {val: i for i, val in reversed(list(enumerate(x for x in row_value['Счёт'])))}\n",
    "        del unique_vals[np.nan]\n",
    "        unique_vals_list_1 = [value for value in unique_vals.values()]\n",
    "        row_value['Является итогом по счёту'] = row_value.index.values\n",
    "        row_value['Является итогом по счёту'] = np.where(row_value['Является итогом по счёту'].isin(unique_vals_list_1),\n",
    "                                                         'Да',\n",
    "                                                         'Нет')\n",
    "    \n",
    "        na_values = list(row_value['Субконто 1'][lambda x: pd.isnull].index)\n",
    "        unique_vals_list_2 = na_values + unique_vals_list_1\n",
    "        row_value['Является итогом по Субконто 1'] = row_value.index.values\n",
    "        row_value['Является итогом по Субконто 1'] = np.where(~(row_value['Является итогом по Субконто 1'].isin(unique_vals_list_2)),\n",
    "                                                              'Да',\n",
    "                                                              'Нет')\n",
    "    else:\n",
    "        row_value['Является итогом по счёту'] = np.nan\n",
    "        row_value['Является итогом по Субконто 1'] = np.nan"
   ]
  },
  {
   "cell_type": "code",
   "execution_count": null,
   "id": "7290f6f5",
   "metadata": {},
   "outputs": [],
   "source": [
    "# заполним значения в столбцах 'Счёт' и 'Субконто 1' вниз\n",
    "for row_key, row_value in all_raw_data.items():\n",
    "    row_value['Счёт'] = row_value['Счёт'].fillna(method='ffill',\n",
    "                                                 axis=0)\n",
    "    row_value['Субконто 1'] = row_value['Субконто 1'].fillna(method='ffill',\n",
    "                                                             axis=0)"
   ]
  },
  {
   "cell_type": "code",
   "execution_count": null,
   "id": "16bbba1c",
   "metadata": {},
   "outputs": [],
   "source": [
    "# отфильтруем датафреймы\n",
    "all_raw_data = {raw_data[0]: raw_data[1][(raw_data[1]['Является итогом по счёту'] == 'Нет') & \n",
    "                                         (raw_data[1]['Является итогом по Субконто 1'] == 'Нет')]\n",
    "                for raw_data in all_raw_data.items()}"
   ]
  },
  {
   "cell_type": "code",
   "execution_count": null,
   "id": "84657f38",
   "metadata": {},
   "outputs": [],
   "source": [
    "# удалим лишние столбцы\n",
    "all_raw_data = {raw_data[0]: raw_data[1].drop(['Является итогом по счёту',\n",
    "                                               'Является итогом по Субконто 1'],\n",
    "                                              axis=1)\n",
    "                for raw_data in all_raw_data.items()}"
   ]
  },
  {
   "cell_type": "code",
   "execution_count": null,
   "id": "8161f69f",
   "metadata": {},
   "outputs": [],
   "source": [
    "# создадим списки из кортежей с названием файла и началом/концом периода\n",
    "raw_data_period_start = list(zip(raw_data_name_list, period_list_start))\n",
    "raw_data_period_end = list(zip(raw_data_name_list, period_list_end))"
   ]
  },
  {
   "cell_type": "code",
   "execution_count": null,
   "id": "bdcb0601",
   "metadata": {},
   "outputs": [],
   "source": [
    "# при помощи цикла добавим столбец 'Начало периода' в каждый датафрейм из словаря 'all_raw_data'\n",
    "for raw_data in all_raw_data.items():\n",
    "    for period in raw_data_period_start:\n",
    "        if raw_data[0] == period[0]:\n",
    "            raw_data[1]['Начало_периода'] = period[1]\n",
    "\n",
    "# при помощи цикла добавим столбец 'Конец периода' в каждый датафрейм из словаря 'all_raw_data'\n",
    "for raw_data in all_raw_data.items():\n",
    "    for period in raw_data_period_end:\n",
    "        if raw_data[0] == period[0]:\n",
    "            raw_data[1]['Конец_периода'] = period[1]"
   ]
  },
  {
   "cell_type": "code",
   "execution_count": null,
   "id": "c3a7bd89",
   "metadata": {},
   "outputs": [],
   "source": [
    "# сбросим индексы\n",
    "for row_key, row_value in all_raw_data.items():\n",
    "    row_value.reset_index(inplace=True, drop=True)"
   ]
  },
  {
   "cell_type": "code",
   "execution_count": null,
   "id": "793b8695",
   "metadata": {},
   "outputs": [],
   "source": [
    "# словарь с именами столбцов и типами данных\n",
    "type_of_columns = {'Сумма нач. ост. Дт': 'float64', \n",
    "                   'Сумма нач. ост. Кт': 'float64', \n",
    "                   'Сумма оборотов Дт': 'float64',\n",
    "                   'Сумма оборотов Кт': 'float64', \n",
    "                   'Сумма кон. ост. Дт': 'float64', \n",
    "                   'Сумма кон. ост. Кт': 'float64'}"
   ]
  },
  {
   "cell_type": "code",
   "execution_count": null,
   "id": "2bbd4c98",
   "metadata": {},
   "outputs": [],
   "source": [
    "# изменим тип данных в каждом датафрейме в соответствии со словарём 'type_of_columns'\n",
    "all_raw_data = {raw_data[0]: raw_data[1].astype(type_of_columns) for raw_data in all_raw_data.items()}"
   ]
  },
  {
   "cell_type": "code",
   "execution_count": null,
   "id": "f6a95f9d",
   "metadata": {},
   "outputs": [],
   "source": [
    "# изменим тип данных в столбцах 'Начало периода' и 'Конец периода' в каждом датафрейме\n",
    "for row_key, row_value in all_raw_data.items():\n",
    "    row_value['Начало_периода'] = row_value['Начало_периода'].apply(lambda row: pd.to_datetime(row, format='%d.%m.%Y'))\n",
    "    row_value['Конец_периода'] = row_value['Конец_периода'].apply(lambda row: pd.to_datetime(row, format='%d.%m.%Y'))"
   ]
  },
  {
   "cell_type": "code",
   "execution_count": null,
   "id": "ffaa2f9f",
   "metadata": {
    "scrolled": true
   },
   "outputs": [],
   "source": [
    "'''\n",
    "Цикл, который перезаписывает каждый файл из 'all_raw_data', чтобы сохранить внесённые ранее изменения в его структуру,\n",
    "а также сохраняет файл в формате csv в первоначальную папку\n",
    "'''\n",
    "print(f'Перезапись ОСВ из \"{source}\"')\n",
    "for raw_data in tqdm(all_raw_data.items()):\n",
    "    raw_data[1].to_csv(os.path.join(source, raw_data[0].replace('.xlsx', '.csv').replace('(XLSX)', '(CSV)')),\n",
    "                       header=True,\n",
    "                       index=False)"
   ]
  },
  {
   "cell_type": "code",
   "execution_count": null,
   "id": "de602db0",
   "metadata": {},
   "outputs": [],
   "source": [
    "# создадим список из кортежей с названием файла и периодом\n",
    "raw_data_period = list(zip(raw_data_name_list, period_list_end_reversed))"
   ]
  },
  {
   "cell_type": "code",
   "execution_count": null,
   "id": "b77e23fc",
   "metadata": {},
   "outputs": [],
   "source": [
    "# создадим список с расположением новых папок\n",
    "folder_location = [os.path.join(source,\n",
    "                                (raw_data[0].split('_')[0]\n",
    "                                            .replace('предыдущий месяц',\n",
    "                                                     'На конец месяца')),\n",
    "                                f'{raw_data[1]}_ОСВ')\n",
    "                   for raw_data in raw_data_period]\n",
    "# цикл создаёт папки, в которые нужно переместить исходные данные\n",
    "for location in folder_location:\n",
    "    # создадим папки только для данных на конец месяца\n",
    "    if 'На конец месяца' in location:\n",
    "        # создаются только те папки, которые до этого не существовали\n",
    "        if not os.path.exists(location):\n",
    "            os.makedirs(location)"
   ]
  },
  {
   "cell_type": "code",
   "execution_count": null,
   "id": "97a2fc8d",
   "metadata": {},
   "outputs": [],
   "source": [
    "# объединим списки 'raw_data_name_list' и 'folder_location'\n",
    "# в список кортежей с названием файла и расположением новой папки для данного файла\n",
    "raw_data_list = list(zip(raw_data_name_list, folder_location))"
   ]
  },
  {
   "cell_type": "code",
   "execution_count": null,
   "id": "746904e8",
   "metadata": {
    "scrolled": true
   },
   "outputs": [],
   "source": [
    "# цикл, который копирует каждый файл из 'raw_data_list' в новую папку и удаляет его из папки c исходными данными\n",
    "print(f'Распределение ОСВ из \"{source}\" по папкам')\n",
    "for raw_data in tqdm(raw_data_list):\n",
    "    if 'предыдущий месяц' in raw_data[0]:\n",
    "        # скопируем исходные данные с расширением .csv в новую папку\n",
    "        shutil.copy(os.path.join(source,\n",
    "                                 raw_data[0].replace('.xlsx', '.csv').replace('(XLSX)', '(CSV)')),\n",
    "                    os.path.join(raw_data[1],\n",
    "                                 '_'.join(raw_data[0].replace('.xlsx', '.csv').replace('(XLSX)', '(CSV)').split('_')[1:])))\n",
    "    # удалим исходные данные с расширением .csv из первоначальной папки\n",
    "    os.remove(os.path.join(source, raw_data[0].replace('.xlsx', '.csv').replace('(XLSX)', '(CSV)')))\n",
    "    # удалим исходные данные с расширением .xlsx из первоначальной папки\n",
    "    os.remove(os.path.join(source, raw_data[0]))"
   ]
  },
  {
   "cell_type": "markdown",
   "id": "e58da3a1",
   "metadata": {},
   "source": [
    "## Преобразование данных для выгрузки в базу данных"
   ]
  },
  {
   "cell_type": "code",
   "execution_count": null,
   "id": "21a8fb55",
   "metadata": {},
   "outputs": [],
   "source": [
    "# удалим лишние столбцы в каждой таблице\n",
    "all_raw_data = {raw_data[0]: raw_data[1].drop(['Сумма нач. ост. Дт',\n",
    "                                               'Сумма кон. ост. Дт',\n",
    "                                               'Сумма оборотов Дт',\n",
    "                                               'Сумма оборотов Кт'],\n",
    "                                              axis='columns')\n",
    "                for raw_data in all_raw_data.items()}"
   ]
  },
  {
   "cell_type": "code",
   "execution_count": null,
   "id": "0ee81c86",
   "metadata": {},
   "outputs": [],
   "source": [
    "# переименуем столбцы в каждой таблице\n",
    "all_raw_data = {raw_data[0]: raw_data[1].rename(columns={'Сумма нач. ост. Кт': 'Задолженность_на_начало_периода',\n",
    "                                                         'Сумма кон. ост. Кт': 'Задолженность_на_конец_периода',\n",
    "                                                         'Субконто 1': 'Кредитор',\n",
    "                                                         'Субконто 2': 'Договор',\n",
    "                                                         'Счёт': 'Тип_задолженности'},\n",
    "                                                inplace=False)\n",
    "                for raw_data in all_raw_data.items()}"
   ]
  },
  {
   "cell_type": "code",
   "execution_count": null,
   "id": "eac47262",
   "metadata": {},
   "outputs": [],
   "source": [
    "# добавим столбец 'Заёмщик' в каждый датафрейм\n",
    "for key, value in all_raw_data.items():\n",
    "    value['Заёмщик'] = key.split('_')[-1].split(' (')[0]"
   ]
  },
  {
   "cell_type": "code",
   "execution_count": null,
   "id": "e9d757a8",
   "metadata": {},
   "outputs": [],
   "source": [
    "# добавим столбец 'Номер договора' в каждый датафрейм\n",
    "for key, value in all_raw_data.items():\n",
    "    value['Номер_договора'] = value['Договор'].apply(lambda row: row.split(' от')[0])"
   ]
  },
  {
   "cell_type": "code",
   "execution_count": null,
   "id": "2d082843",
   "metadata": {},
   "outputs": [],
   "source": [
    "# добавим столбец 'Дата заключения договора' в каждый датафрейм\n",
    "for key, value in all_raw_data.items():\n",
    "    value['Дата_заключения_договора'] = value['Договор'].apply(lambda row: \n",
    "                                                               re.search(r'\\d{2}\\.\\d{2}\\.\\d{4}', # шаблон для поиска даты\n",
    "                                                                         row.split('от ')[1]).group(0))"
   ]
  },
  {
   "cell_type": "code",
   "execution_count": null,
   "id": "e1ea267d",
   "metadata": {},
   "outputs": [],
   "source": [
    "# изменим тип данных в столбце 'Дата заключения договора' в каждом датафрейме\n",
    "for row_key, row_value in all_raw_data.items():\n",
    "    row_value['Дата_заключения_договора'] = row_value['Дата_заключения_договора'].apply(lambda row:\n",
    "                                                                                        pd.to_datetime(row, format='%d.%m.%Y'))"
   ]
  },
  {
   "cell_type": "code",
   "execution_count": null,
   "id": "f2c11e0c",
   "metadata": {},
   "outputs": [],
   "source": [
    "# заменим все 'NaN' на 0 в столбцах 'Задолженность на начало периода' и 'Задолженность на конец периода'\n",
    "for key, value in all_raw_data.items():\n",
    "    value['Задолженность_на_начало_периода'].replace(np.nan, 0, inplace=True)\n",
    "    value['Задолженность_на_конец_периода'].replace(np.nan, 0, inplace=True)"
   ]
  },
  {
   "cell_type": "code",
   "execution_count": null,
   "id": "b0a1854b",
   "metadata": {},
   "outputs": [],
   "source": [
    "# добавим столбец 'Изменение задолженности' в каждый датафрейм\n",
    "for key, value in all_raw_data.items():\n",
    "    value['Изменение_задолженности'] = value['Задолженность_на_конец_периода'] - value['Задолженность_на_начало_периода']"
   ]
  },
  {
   "cell_type": "code",
   "execution_count": null,
   "id": "9e87ded1",
   "metadata": {},
   "outputs": [],
   "source": [
    "# словарь с типом задолженности\n",
    "type_of_debt = {'66.01': 'Краткосрочный кредит',\n",
    "                '66.02': 'Проценты по краткосрочному кредиту',\n",
    "                '66.03': 'Краткосрочный займ',\n",
    "                '66.04': 'Проценты по краткосрочному займу',\n",
    "                '66.05': 'Краткосрочные долговые ценные бумаги',\n",
    "                '66.06': 'Проценты по краткосрочным долговым ценным бумагам',\n",
    "                '67.01': 'Долгосрочный кредит',\n",
    "                '67.02': 'Проценты по долгосрочному кредиту',\n",
    "                '67.03': 'Долгосрочный займ',\n",
    "                '67.04': 'Проценты по долгосрочному займу',\n",
    "                '67.05': 'Долгосрочные долговые ценные бумаги',\n",
    "                '67.06': 'Проценты по долгосрочным долговым ценным бумагам'}"
   ]
  },
  {
   "cell_type": "code",
   "execution_count": null,
   "id": "921e6f10",
   "metadata": {},
   "outputs": [],
   "source": [
    "# заменим значения в столбце 'Тип задолженности' на значения в словаре 'type_of_debt'\n",
    "for key, value in all_raw_data.items():\n",
    "    value['Тип_задолженности'] = value['Тип_задолженности'].replace(type_of_debt)"
   ]
  },
  {
   "cell_type": "code",
   "execution_count": null,
   "id": "768ff4fc",
   "metadata": {},
   "outputs": [],
   "source": [
    "# добавим столбец 'Уникальный ключ' в каждый датафрейм\n",
    "for key, value in all_raw_data.items():\n",
    "    value['Уникальный_ключ'] = value['Конец_периода'].apply(lambda row: str(row)) + value['Номер_договора'].apply(lambda row: row)"
   ]
  },
  {
   "cell_type": "code",
   "execution_count": null,
   "id": "7c14cd1d",
   "metadata": {},
   "outputs": [],
   "source": [
    "# создадим список для хранения таблиц с данными за предыдущий месяц и текущий день\n",
    "tables_to_merge_last_month = [] \n",
    "tables_to_merge_current_day = [] \n",
    "# цикл для заполнения списка определёнными таблицами\n",
    "for key, value in all_raw_data.items():\n",
    "    if key.startswith('предыдущий месяц'):\n",
    "        tables_to_merge_last_month.append(value)\n",
    "        \n",
    "for key, value in all_raw_data.items():\n",
    "    if key.startswith('текущий день'):\n",
    "        tables_to_merge_current_day.append(value)        "
   ]
  },
  {
   "cell_type": "code",
   "execution_count": null,
   "id": "dc9cdb48",
   "metadata": {},
   "outputs": [],
   "source": [
    "# объединим таблицы\n",
    "merged_osv_last_month = pd.concat(tables_to_merge_last_month, axis=0).reset_index(inplace=False, drop=True)\n",
    "merged_osv_current_day = pd.concat(tables_to_merge_current_day, axis=0).reset_index(inplace=False, drop=True)"
   ]
  },
  {
   "cell_type": "code",
   "execution_count": null,
   "id": "b149968b",
   "metadata": {},
   "outputs": [],
   "source": [
    "# сортированный список столбцов\n",
    "sort_columns = ['Уникальный_ключ',\n",
    "                'Начало_периода',\n",
    "                'Конец_периода',\n",
    "                'Заёмщик',\n",
    "                'Кредитор',\n",
    "                'Тип_задолженности',\n",
    "                'Договор',\n",
    "                'Номер_договора',\n",
    "                'Дата_заключения_договора',\n",
    "                'Задолженность_на_начало_периода',\n",
    "                'Задолженность_на_конец_периода',\n",
    "                'Изменение_задолженности']"
   ]
  },
  {
   "cell_type": "code",
   "execution_count": null,
   "id": "5ecabd57",
   "metadata": {},
   "outputs": [],
   "source": [
    "# поменяем местами столбцы\n",
    "merged_osv_last_month = merged_osv_last_month.reindex(columns=sort_columns)\n",
    "merged_osv_current_day = merged_osv_current_day.reindex(columns=sort_columns)"
   ]
  },
  {
   "cell_type": "code",
   "execution_count": null,
   "id": "6abb2811",
   "metadata": {},
   "outputs": [],
   "source": [
    "# создадим отдельные таблицы с процентами по задолженности\n",
    "merged_osv_last_month_procent = (merged_osv_last_month[merged_osv_last_month['Тип_задолженности'].str.contains('Проценты')]\n",
    "                                 .reset_index(drop=True))\n",
    "merged_osv_current_day_procent = (merged_osv_current_day[merged_osv_current_day['Тип_задолженности'].str.contains('Проценты')]\n",
    "                                  .reset_index(drop=True))"
   ]
  },
  {
   "cell_type": "code",
   "execution_count": null,
   "id": "82b94242",
   "metadata": {},
   "outputs": [],
   "source": [
    "# отфильтруем таблицы, удалив строки с процентами по задолженности\n",
    "merged_osv_last_month = (merged_osv_last_month[~merged_osv_last_month['Тип_задолженности'].str.contains('Проценты')]\n",
    "                         .reset_index(drop=True))\n",
    "merged_osv_current_day = (merged_osv_current_day[~merged_osv_current_day['Тип_задолженности'].str.contains('Проценты')]\n",
    "                          .reset_index(drop=True))"
   ]
  },
  {
   "cell_type": "markdown",
   "id": "ad2283d4",
   "metadata": {},
   "source": [
    "## Подключение к PostgreSQL и выгрузка csv-файлов в базу данных"
   ]
  },
  {
   "cell_type": "code",
   "execution_count": null,
   "id": "e862b3b4",
   "metadata": {},
   "outputs": [],
   "source": [
    "# создадим справочник с данными для подключения к БД\n",
    "db_config = {\n",
    "        'user': 'user',\n",
    "        'password': 'password',\n",
    "        'host': 'host',\n",
    "        'port': 'port',\n",
    "        'database': 'database'\n",
    "    }"
   ]
  },
  {
   "cell_type": "code",
   "execution_count": null,
   "id": "84b2124b",
   "metadata": {},
   "outputs": [],
   "source": [
    "# создадим строку для подключения к БД\n",
    "connection_string = 'postgresql://{}:{}@{}:{}/{}'.format(\n",
    "        db_config['user'],\n",
    "        db_config['password'],\n",
    "        db_config['host'],\n",
    "        db_config['port'],\n",
    "        db_config['database']\n",
    ")"
   ]
  },
  {
   "cell_type": "code",
   "execution_count": null,
   "id": "15d8465b",
   "metadata": {},
   "outputs": [],
   "source": [
    "# подключимся к БД через sqlalchemy\n",
    "engine_alc = db.create_engine(connection_string)\n",
    "conn_alc = engine_alc.connect()"
   ]
  },
  {
   "cell_type": "code",
   "execution_count": null,
   "id": "482dca50",
   "metadata": {},
   "outputs": [],
   "source": [
    "# подключимся к БД через psycopg2\n",
    "conn_psy = psycopg2.connect(database=db_config['database'],\n",
    "                            user=db_config['user'],\n",
    "                            password=db_config['password'],\n",
    "                            host=db_config['host'], \n",
    "                            port=db_config['port'])"
   ]
  },
  {
   "cell_type": "code",
   "execution_count": null,
   "id": "b8bb10d8",
   "metadata": {},
   "outputs": [],
   "source": [
    "# выгрузим объединённые таблицы с данными по предыдущему месяцу в БД\n",
    "merged_osv_last_month.to_sql('debt_month', engine_alc, schema='schema', if_exists='append', index=False)\n",
    "merged_osv_last_month_procent.to_sql('debt_month_procent', engine_alc, schema='schema', if_exists='append', index=False)"
   ]
  },
  {
   "cell_type": "code",
   "execution_count": null,
   "id": "3b6f3031",
   "metadata": {},
   "outputs": [],
   "source": [
    "# выгрузим объединённые таблицы с данными по текущему дню в БД\n",
    "merged_osv_current_day.to_sql('debt_day', engine_alc, schema='schema', if_exists='append', index=False)\n",
    "merged_osv_current_day_procent.to_sql('debt_day_procent', engine_alc, schema='schema', if_exists='append', index=False)"
   ]
  },
  {
   "cell_type": "code",
   "execution_count": null,
   "id": "17ff0fe4",
   "metadata": {},
   "outputs": [],
   "source": [
    "# функция для удаления дубликатов из таблицы в БД (остаются только последние добавленные уникальные договоры)\n",
    "def del_duplicates_month(table_name, schema):\n",
    "    cur.execute(f'DELETE \\\n",
    "                  FROM {schema}.{table_name} \\\n",
    "                  WHERE Уникальный_ключ IN (SELECT Уникальный_ключ \\\n",
    "                                            FROM {schema}.{table_name} \\\n",
    "                                            GROUP BY Уникальный_ключ \\\n",
    "                                            HAVING COUNT(*) > 1) AND Обновлено NOT IN (SELECT MAX(Обновлено) \\\n",
    "                                                                                       FROM {schema}.{table_name} \\\n",
    "                                                                                       GROUP BY Уникальный_ключ \\\n",
    "                                                                                       HAVING COUNT(*) > 1);')"
   ]
  },
  {
   "cell_type": "code",
   "execution_count": null,
   "id": "30892ecf",
   "metadata": {},
   "outputs": [],
   "source": [
    "# функция для удаления дубликатов из таблицы в БД (остаются только последние добавленные уникальные договоры)\n",
    "def del_duplicates_day(table_name, schema):\n",
    "    cur.execute(f'DELETE \\\n",
    "                  FROM {schema}.{table_name} \\\n",
    "                  WHERE Договор IN (SELECT Договор \\\n",
    "                                           FROM {schema}.{table_name} \\\n",
    "                                           GROUP BY Договор \\\n",
    "                                           HAVING COUNT(*) > 1) AND Обновлено NOT IN (SELECT MAX(Обновлено) \\\n",
    "                                                                                      FROM {schema}.{table_name} \\\n",
    "                                                                                      GROUP BY Договор \\\n",
    "                                                                                      HAVING COUNT(*) > 1);')"
   ]
  },
  {
   "cell_type": "code",
   "execution_count": null,
   "id": "1ba285ae",
   "metadata": {},
   "outputs": [],
   "source": [
    "# cоздадим переменную cur и присвоим ей объект курсора, созданный для подключения к базе данных conn_psy\n",
    "# курсор используется для выполнения запросов SQL и получения результатов из базы данных\n",
    "cur = conn_psy.cursor()\n",
    "\n",
    "# применим функцию del_duplicates\n",
    "del_duplicates_month('debt_month', 'schema')\n",
    "del_duplicates_month('debt_month_procent', 'schema')\n",
    "del_duplicates_day('debt_day', 'schema')\n",
    "del_duplicates_day('debt_day_procent', 'schema')"
   ]
  },
  {
   "cell_type": "code",
   "execution_count": null,
   "id": "2dd6cf6e",
   "metadata": {},
   "outputs": [],
   "source": [
    "# сохраним изменения и закроем соединение с БД через psycopg2\n",
    "conn_psy.commit()\n",
    "cur.close()\n",
    "conn_psy.close()"
   ]
  }
 ],
 "metadata": {
  "kernelspec": {
   "display_name": "Python 3 (ipykernel)",
   "language": "python",
   "name": "python3"
  },
  "language_info": {
   "codemirror_mode": {
    "name": "ipython",
    "version": 3
   },
   "file_extension": ".py",
   "mimetype": "text/x-python",
   "name": "python",
   "nbconvert_exporter": "python",
   "pygments_lexer": "ipython3",
   "version": "3.9.13"
  }
 },
 "nbformat": 4,
 "nbformat_minor": 5
}
